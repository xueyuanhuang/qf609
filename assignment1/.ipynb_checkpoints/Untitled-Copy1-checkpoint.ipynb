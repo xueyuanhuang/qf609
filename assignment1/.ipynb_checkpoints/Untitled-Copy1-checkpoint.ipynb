{
 "cells": [
  {
   "cell_type": "markdown",
   "id": "bdac72b9-3234-458d-8c04-72a3b6ef4eb9",
   "metadata": {},
   "source": [
    "# Parametric VaR Model"
   ]
  },
  {
   "cell_type": "code",
   "execution_count": 1,
   "id": "bae476fb-eef0-4543-8226-d4e5de376e91",
   "metadata": {},
   "outputs": [],
   "source": [
    "import numpy as np\n",
    "import pandas as pd\n",
    "import datetime as dt\n",
    "from scipy.stats import norm"
   ]
  },
  {
   "cell_type": "code",
   "execution_count": 2,
   "id": "6a8a72c8-1e25-4d87-aad4-2d7c08a6abd8",
   "metadata": {},
   "outputs": [],
   "source": [
    "zero_rates = pd.read_excel(\"hist_data.xlsm\", sheet_name = 'SofrCurve', index_col = 'Tenor')\n",
    "zero_rates.columns = [col.strftime('%Y-%m-%d') if isinstance(col, dt.datetime) else col for col in zero_rates.columns]"
   ]
  },
  {
   "cell_type": "markdown",
   "id": "788d517c-bc59-44f8-a980-e71fef1b7a42",
   "metadata": {},
   "source": [
    "## calculate a(k) "
   ]
  },
  {
   "cell_type": "code",
   "execution_count": 3,
   "id": "79d2c3c1-6dda-4f4e-98d2-e3ba76d15d7c",
   "metadata": {},
   "outputs": [],
   "source": [
    "####\n",
    "#             T      2023-10-30\n",
    "# Tenor                       \n",
    "# 1D      0.002778    0.052967\n",
    "# 1M      0.083333    0.053053\n",
    "# 2M      0.166667    0.053265\n",
    "# 3M      0.250000    0.053476\n",
    "# 6M      0.500000    0.053612\n",
    "# 9M      0.750000    0.053120\n",
    "# 1Y      1.000000    0.052245\n",
    "# 2Y      2.000000    0.047904\n",
    "###\n",
    "def cal_v_psofr10(zero_rates1):\n",
    "    zero_rates = zero_rates1.copy()\n",
    "    col_T = zero_rates.columns[0]\n",
    "    col_r = zero_rates.columns[1]\n",
    "    zero_rates['df'] = 1/(1+zero_rates[col_r])**zero_rates[col_T]\n",
    "\n",
    "    Tl = 1\n",
    "    Th = 10\n",
    "    zero_rates1 = zero_rates[(zero_rates[col_T] >= Tl) & (zero_rates[col_T] <= Th)].copy()\n",
    "\n",
    "    swap_rate = 0.042\n",
    "    nominal = 1e8\n",
    "    flt = 1 - zero_rates1[\"df\"].iloc[-1]\n",
    "    fixed = sum(zero_rates1['df'])*swap_rate\n",
    "    v_sofr = (flt-fixed)*nominal\n",
    "    return v_sofr"
   ]
  },
  {
   "cell_type": "code",
   "execution_count": 4,
   "id": "697f3404-de1d-42f7-a5a9-69e5b62547af",
   "metadata": {},
   "outputs": [],
   "source": [
    "v_sofr = cal_v_psofr10(zero_rates[[\"T\",\"2023-10-30\"]])\n",
    "a = []\n",
    "for i in range(len(zero_rates)):\n",
    "    zero_rates1 = zero_rates[[\"T\",\"2023-10-30\"]].copy()\n",
    "    zero_rates1.at[zero_rates1.index[i], '2023-10-30'] += 1e-4\n",
    "    \n",
    "    v_sofr1 = cal_v_psofr10(zero_rates1)\n",
    "    a.append((v_sofr1 - v_sofr)*1e4)\n",
    "#changing 1bp*1e4 the total value changed"
   ]
  },
  {
   "cell_type": "code",
   "execution_count": 5,
   "id": "526f84ac-dac4-4172-a3d1-bd93abb46eb9",
   "metadata": {},
   "outputs": [
    {
     "data": {
      "text/plain": [
       "[0.0,\n",
       " 0.0,\n",
       " 0.0,\n",
       " 0.0,\n",
       " 0.0,\n",
       " 0.0,\n",
       " 3792928.0351521447,\n",
       " 7298815.3986260295,\n",
       " 10546509.114140645,\n",
       " 13520286.233969964,\n",
       " 16220763.200626243,\n",
       " 18661706.278345082,\n",
       " 20859855.8545392,\n",
       " 22829185.211181175,\n",
       " 24582964.464393444,\n",
       " 648376913.5730015,\n",
       " 0.0,\n",
       " 0.0,\n",
       " 0.0,\n",
       " 0.0,\n",
       " 0.0,\n",
       " 0.0,\n",
       " 0.0,\n",
       " 0.0,\n",
       " 0.0,\n",
       " 0.0,\n",
       " 0.0,\n",
       " 0.0,\n",
       " 0.0,\n",
       " 0.0,\n",
       " 1000000.0,\n",
       " 1000000.0,\n",
       " 1000000.0,\n",
       " 1000000.0]"
      ]
     },
     "execution_count": 5,
     "metadata": {},
     "output_type": "execute_result"
    }
   ],
   "source": [
    "a1 = a+[1e6]*4\n",
    "a1"
   ]
  },
  {
   "cell_type": "markdown",
   "id": "42da3013-9578-4e2e-a467-7e2876a188bd",
   "metadata": {},
   "source": [
    "## whole profolio"
   ]
  },
  {
   "cell_type": "code",
   "execution_count": 6,
   "id": "4b21ec3d-809e-4bb5-bf0d-c7d529504f4d",
   "metadata": {},
   "outputs": [
    {
     "data": {
      "text/plain": [
       "935790.3822451893"
      ]
     },
     "execution_count": 6,
     "metadata": {},
     "output_type": "execute_result"
    }
   ],
   "source": [
    "#zeo_rates\n",
    "r_changes = zero_rates[zero_rates.columns[1:]].T.diff().dropna()\n",
    "#stocks\n",
    "stocks = pd.read_excel(\"hist_data.xlsm\", sheet_name = ['AAPL', 'MSFT', 'F', 'BAC'], index_col = 'Date')\n",
    "\n",
    "stocks_mean = pd.concat(stocks.values(), keys=stocks.keys(), axis = 1)\n",
    "stocks_mean = np.log(stocks_mean/stocks_mean.shift(1))\n",
    "stocks_mean.dropna(inplace=True)\n",
    "\n",
    "stocks_var = pd.concat(stocks.values(), keys=stocks.keys(), axis = 1)\n",
    "stocks_var = (stocks_var - stocks_var.shift(1))/stocks_var.shift(1)\n",
    "stocks_var.dropna(inplace=True)\n",
    "\n",
    "#mean_p\n",
    "r_changes.index = stocks_mean.index\n",
    "daily_changes_mean = pd.concat([r_changes,stocks_mean],axis = 1)\n",
    "mean_vector = daily_changes_mean.mean()\n",
    "mean_vector[-4:] = np.exp(mean_vector[-4:])-1\n",
    "mean_p = sum(mean_vector*a1)\n",
    "\n",
    "#cov_p\n",
    "daily_changes_var = pd.concat([r_changes,stocks_var],axis = 1)\n",
    "cov_matrix = daily_changes_var.cov()\n",
    "var_p = np.array(a1).dot(cov_matrix).dot(np.array(a1))\n",
    "\n",
    "#VaR95\n",
    "z_a = norm.ppf(0.95)\n",
    "VaR95 = abs(mean_p + z_a*np.sqrt(var_p))\n",
    "VaR95"
   ]
  },
  {
   "cell_type": "code",
   "execution_count": 7,
   "id": "a7ba4c30-a703-4bec-a829-6baaedd7e0f9",
   "metadata": {},
   "outputs": [
    {
     "data": {
      "text/plain": [
       "(309924338076.0387, 20086.41034898725)"
      ]
     },
     "execution_count": 7,
     "metadata": {},
     "output_type": "execute_result"
    }
   ],
   "source": [
    "var_p,mean_p"
   ]
  },
  {
   "cell_type": "markdown",
   "id": "67f96424-594e-45c6-91d4-fc2342d13f83",
   "metadata": {},
   "source": [
    "# Monte Carlo VaR Model"
   ]
  },
  {
   "cell_type": "code",
   "execution_count": 8,
   "id": "eeb5aa3c-4848-4912-83c8-0693be42172c",
   "metadata": {},
   "outputs": [],
   "source": [
    "#array([-0.00054994, -0.00071541, -0.00065583, -0.00069635, -0.00070323,\n",
    "#       -0.00071554, -0.00075263, -0.00079857, -0.00083744, -0.00085454])\n",
    "sofr_info = zero_rates[\"2023-10-30\"][6:16].values\n",
    "def cal_v_sofr(r_changes):\n",
    "    \n",
    "    new_rs = r_changes+sofr_info\n",
    "    df = np.power(1/(1+new_rs), np.arange(1,11))\n",
    "\n",
    "    swap_rate = 0.042\n",
    "    nominal = 1e8\n",
    "    flt = 1 - df[-1]\n",
    "    fixed = sum(df)*swap_rate\n",
    "    v_sofr = (flt-fixed)*nominal\n",
    "    return v_sofr"
   ]
  },
  {
   "cell_type": "code",
   "execution_count": 9,
   "id": "87c1286b-dc81-4905-92a5-05f7963bcf9c",
   "metadata": {},
   "outputs": [
    {
     "data": {
      "text/plain": [
       "5669708.414768378"
      ]
     },
     "execution_count": 9,
     "metadata": {},
     "output_type": "execute_result"
    }
   ],
   "source": [
    "pv = v_sofr + 4*1e6\n",
    "pv"
   ]
  },
  {
   "cell_type": "code",
   "execution_count": null,
   "id": "c6490f02-43a1-43b9-a129-fb288fbe7e9b",
   "metadata": {},
   "outputs": [],
   "source": [
    "mean_vector = daily_changes_var.mean()\n",
    "covariance_matrix = daily_changes_var.cov()\n",
    "num_simulations = int(1e7)\n",
    "risk_factors = np.random.multivariate_normal(mean_vector, covariance_matrix, num_simulations)"
   ]
  },
  {
   "cell_type": "code",
   "execution_count": 11,
   "id": "71ee4e4a-4b16-4537-aaf2-34f733b23b40",
   "metadata": {},
   "outputs": [],
   "source": [
    "# num_simulations = int(1e7)\n",
    "# risk_factors = np.random.multivariate_normal(mean_vector, covariance_matrix, num_simulations)\n",
    "# changes = []\n",
    "# for i in range(num_simulations):\n",
    "#     stock_pv = sum((risk_factors[i][-4:]+1)*1e6)\n",
    "#     sofr_pv = cal_v_sofr(risk_factors[i][6:16])\n",
    "#     changes.append(stock_pv+sofr_pv-pv)\n",
    "\n",
    "# # Calculate the 5th percentile\n",
    "# VaR_95 = np.percentile(np.sort(changes), 5)\n",
    "# VaR_95"
   ]
  },
  {
   "cell_type": "code",
   "execution_count": 12,
   "id": "18c32f67-5212-4150-a746-1d38e2f48437",
   "metadata": {},
   "outputs": [],
   "source": [
    "def cal_vector_sofr(risk__vector_changes):\n",
    "    \n",
    "    new_vector_rs = risk_vector_changes[:,6:16]+sofr_info\n",
    "    vector_df = np.power(1/(1+new_vector_rs), np.arange(1,11))\n",
    "\n",
    "    swap_rate = 0.042\n",
    "    nominal = 1e8\n",
    "    flt = 1 - df[:,-1]\n",
    "    fixed = np.sum(df, axis=1)*swap_rate\n",
    "    vector_sofr = (flt-fixed)*nominal\n",
    "    return vector_sofr"
   ]
  },
  {
   "cell_type": "code",
   "execution_count": null,
   "id": "48943c8c-9ebe-42b9-9ed2-623288283837",
   "metadata": {},
   "outputs": [],
   "source": [
    "risk_vector_changes[:,-4]"
   ]
  },
  {
   "cell_type": "code",
   "execution_count": null,
   "id": "c2cc4494-c24f-41da-8d5f-fcc0bbc5cda8",
   "metadata": {},
   "outputs": [],
   "source": [
    "num_simulations = int(1e7)\n",
    "risk_factors_changes = np.random.multivariate_normal(mean_vector, covariance_matrix, num_simulations)\n",
    "changes = cal_vector_sofr(risk_factors_changes)-\n",
    "VaR_95 = np.percentile(np.sort(changes), 5)\n",
    "VaR_95"
   ]
  },
  {
   "cell_type": "code",
   "execution_count": null,
   "id": "1755fda9-3491-46e3-a749-55fbe35a2e2e",
   "metadata": {},
   "outputs": [],
   "source": []
  }
 ],
 "metadata": {
  "kernelspec": {
   "display_name": "Python 3 (ipykernel)",
   "language": "python",
   "name": "python3"
  },
  "language_info": {
   "codemirror_mode": {
    "name": "ipython",
    "version": 3
   },
   "file_extension": ".py",
   "mimetype": "text/x-python",
   "name": "python",
   "nbconvert_exporter": "python",
   "pygments_lexer": "ipython3",
   "version": "3.12.0"
  }
 },
 "nbformat": 4,
 "nbformat_minor": 5
}
