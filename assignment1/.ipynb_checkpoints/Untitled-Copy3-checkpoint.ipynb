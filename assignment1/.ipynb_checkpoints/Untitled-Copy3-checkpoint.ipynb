{
 "cells": [
  {
   "cell_type": "markdown",
   "id": "bdac72b9-3234-458d-8c04-72a3b6ef4eb9",
   "metadata": {},
   "source": [
    "# Parametric VaR Model"
   ]
  },
  {
   "cell_type": "code",
   "execution_count": 1,
   "id": "bae476fb-eef0-4543-8226-d4e5de376e91",
   "metadata": {},
   "outputs": [],
   "source": [
    "import numpy as np\n",
    "import pandas as pd\n",
    "import datetime as dt\n",
    "from scipy.stats import norm\n",
    "\n",
    "import matplotlib.pyplot as plt"
   ]
  },
  {
   "cell_type": "code",
   "execution_count": 2,
   "id": "6a8a72c8-1e25-4d87-aad4-2d7c08a6abd8",
   "metadata": {},
   "outputs": [],
   "source": [
    "zero_rates = pd.read_excel(\"hist_data.xlsm\", sheet_name = 'SofrCurve', index_col = 'Tenor')\n",
    "zero_rates.columns = [col.strftime('%Y-%m-%d') if isinstance(col, dt.datetime) else col for col in zero_rates.columns]"
   ]
  },
  {
   "cell_type": "markdown",
   "id": "788d517c-bc59-44f8-a980-e71fef1b7a42",
   "metadata": {},
   "source": [
    "## calculate a(k) "
   ]
  },
  {
   "cell_type": "code",
   "execution_count": 3,
   "id": "79d2c3c1-6dda-4f4e-98d2-e3ba76d15d7c",
   "metadata": {},
   "outputs": [],
   "source": [
    "####\n",
    "#             T      2023-10-30\n",
    "# Tenor                       \n",
    "# 1D      0.002778    0.052967\n",
    "# 1M      0.083333    0.053053\n",
    "# 2M      0.166667    0.053265\n",
    "# 3M      0.250000    0.053476\n",
    "# 6M      0.500000    0.053612\n",
    "# 9M      0.750000    0.053120\n",
    "# 1Y      1.000000    0.052245\n",
    "# 2Y      2.000000    0.047904\n",
    "###\n",
    "def cal_v_psofr10(zero_rates1):\n",
    "    zero_rates = zero_rates1.copy()\n",
    "    col_T = zero_rates.columns[0]\n",
    "    col_r = zero_rates.columns[1]\n",
    "    zero_rates['df'] = np.exp(-zero_rates[col_r]*zero_rates[col_T])\n",
    "    #1/(1+zero_rates[col_r])**zero_rates[col_T]\n",
    "\n",
    "    Tl = 1\n",
    "    Th = 10\n",
    "    zero_rates1 = zero_rates[(zero_rates[col_T] >= Tl) & (zero_rates[col_T] <= Th)].copy()\n",
    "\n",
    "    swap_rate = 0.042\n",
    "    nominal = 1e8\n",
    "    flt = 1 - zero_rates1[\"df\"].iloc[-1]\n",
    "    fixed = sum(zero_rates1['df'])*swap_rate\n",
    "    v_sofr = (flt-fixed)*nominal\n",
    "    return v_sofr"
   ]
  },
  {
   "cell_type": "code",
   "execution_count": 4,
   "id": "697f3404-de1d-42f7-a5a9-69e5b62547af",
   "metadata": {},
   "outputs": [],
   "source": [
    "v_sofr = cal_v_psofr10(zero_rates[[\"T\",\"2023-10-30\"]])\n",
    "a = []\n",
    "for i in range(len(zero_rates)):\n",
    "    zero_rates1 = zero_rates[[\"T\",\"2023-10-30\"]].copy()\n",
    "    zero_rates1.at[zero_rates1.index[i], '2023-10-30'] += 1e-4\n",
    "    \n",
    "    v_sofr1 = cal_v_psofr10(zero_rates1)\n",
    "    a.append((v_sofr1 - v_sofr)*1e4)\n",
    "#changing 1bp*1e4 the total value changed"
   ]
  },
  {
   "cell_type": "code",
   "execution_count": 5,
   "id": "526f84ac-dac4-4172-a3d1-bd93abb46eb9",
   "metadata": {},
   "outputs": [
    {
     "data": {
      "text/plain": [
       "[0.0,\n",
       " 0.0,\n",
       " 0.0,\n",
       " 0.0,\n",
       " 0.0,\n",
       " 0.0,\n",
       " 3986006.767041981,\n",
       " 7631796.779651195,\n",
       " 10993001.080704853,\n",
       " 14066553.566618823,\n",
       " 16854750.986839645,\n",
       " 19371056.086570024,\n",
       " 21632335.943877697,\n",
       " 23653227.56747715,\n",
       " 25447769.064768218,\n",
       " 670595262.5624137,\n",
       " 0.0,\n",
       " 0.0,\n",
       " 0.0,\n",
       " 0.0,\n",
       " 0.0,\n",
       " 0.0,\n",
       " 0.0,\n",
       " 0.0,\n",
       " 0.0,\n",
       " 0.0,\n",
       " 0.0,\n",
       " 0.0,\n",
       " 0.0,\n",
       " 0.0,\n",
       " 1000000.0,\n",
       " 1000000.0,\n",
       " 1000000.0,\n",
       " 1000000.0]"
      ]
     },
     "execution_count": 5,
     "metadata": {},
     "output_type": "execute_result"
    }
   ],
   "source": [
    "a1 = a+[1e6]*4\n",
    "a1"
   ]
  },
  {
   "cell_type": "markdown",
   "id": "42da3013-9578-4e2e-a467-7e2876a188bd",
   "metadata": {},
   "source": [
    "## whole profolio"
   ]
  },
  {
   "cell_type": "code",
   "execution_count": 36,
   "id": "5d54ef81-0b31-4e14-83af-cf43035c25b3",
   "metadata": {},
   "outputs": [],
   "source": [
    "r_changes = zero_rates[zero_rates.columns[1:]].T.diff().dropna()\n",
    "r_changes.index = pd.to_datetime(r_changes.index)"
   ]
  },
  {
   "cell_type": "code",
   "execution_count": 32,
   "id": "1a29ba4b-ec92-46aa-8c60-e37bc601603e",
   "metadata": {},
   "outputs": [
    {
     "data": {
      "text/plain": [
       "DatetimeIndex(['2022-11-01', '2022-11-02', '2022-11-03', '2022-11-04',\n",
       "               '2022-11-07', '2022-11-08', '2022-11-09', '2022-11-10',\n",
       "               '2022-11-11', '2022-11-14',\n",
       "               ...\n",
       "               '2023-10-17', '2023-10-18', '2023-10-19', '2023-10-20',\n",
       "               '2023-10-23', '2023-10-24', '2023-10-25', '2023-10-26',\n",
       "               '2023-10-27', '2023-10-30'],\n",
       "              dtype='datetime64[ns]', name='Date', length=250, freq=None)"
      ]
     },
     "execution_count": 32,
     "metadata": {},
     "output_type": "execute_result"
    }
   ],
   "source": [
    "stocks = pd.read_excel(\"hist_data.xlsm\", sheet_name = ['AAPL', 'MSFT', 'F', 'BAC'], index_col = 'Date')\n",
    "stocks = pd.concat(stocks.values(), keys=stocks.keys(), axis = 1)\n",
    "stocks = (stocks - stocks.shift(1))/stocks.shift(1)\n",
    "stocks.dropna(inplace=True)\n",
    "stocks.index"
   ]
  },
  {
   "cell_type": "code",
   "execution_count": 45,
   "id": "9c6cdc8d-5a95-4fc7-b435-3697665847cf",
   "metadata": {},
   "outputs": [
    {
     "data": {
      "text/html": [
       "<div>\n",
       "<style scoped>\n",
       "    .dataframe tbody tr th:only-of-type {\n",
       "        vertical-align: middle;\n",
       "    }\n",
       "\n",
       "    .dataframe tbody tr th {\n",
       "        vertical-align: top;\n",
       "    }\n",
       "\n",
       "    .dataframe thead th {\n",
       "        text-align: right;\n",
       "    }\n",
       "</style>\n",
       "<table border=\"1\" class=\"dataframe\">\n",
       "  <thead>\n",
       "    <tr style=\"text-align: right;\">\n",
       "      <th></th>\n",
       "      <th>1D</th>\n",
       "      <th>1M</th>\n",
       "      <th>2M</th>\n",
       "      <th>3M</th>\n",
       "      <th>6M</th>\n",
       "      <th>9M</th>\n",
       "      <th>1Y</th>\n",
       "      <th>2Y</th>\n",
       "      <th>3Y</th>\n",
       "      <th>4Y</th>\n",
       "      <th>...</th>\n",
       "      <th>19Y</th>\n",
       "      <th>20Y</th>\n",
       "      <th>25Y</th>\n",
       "      <th>30Y</th>\n",
       "      <th>35Y</th>\n",
       "      <th>40Y</th>\n",
       "      <th>(AAPL, Adj Close)</th>\n",
       "      <th>(MSFT, Adj Close)</th>\n",
       "      <th>(F, Adj Close)</th>\n",
       "      <th>(BAC, Adj Close)</th>\n",
       "    </tr>\n",
       "  </thead>\n",
       "  <tbody>\n",
       "    <tr>\n",
       "      <th>2022-11-11</th>\n",
       "      <td>NaN</td>\n",
       "      <td>NaN</td>\n",
       "      <td>NaN</td>\n",
       "      <td>NaN</td>\n",
       "      <td>NaN</td>\n",
       "      <td>NaN</td>\n",
       "      <td>NaN</td>\n",
       "      <td>NaN</td>\n",
       "      <td>NaN</td>\n",
       "      <td>NaN</td>\n",
       "      <td>...</td>\n",
       "      <td>NaN</td>\n",
       "      <td>NaN</td>\n",
       "      <td>NaN</td>\n",
       "      <td>NaN</td>\n",
       "      <td>NaN</td>\n",
       "      <td>NaN</td>\n",
       "      <td>0.019269</td>\n",
       "      <td>0.016997</td>\n",
       "      <td>0.022567</td>\n",
       "      <td>0.007343</td>\n",
       "    </tr>\n",
       "    <tr>\n",
       "      <th>2023-04-07</th>\n",
       "      <td>0.000596</td>\n",
       "      <td>-0.000189</td>\n",
       "      <td>-0.001362</td>\n",
       "      <td>-0.001413</td>\n",
       "      <td>0.000175</td>\n",
       "      <td>0.000699</td>\n",
       "      <td>0.000956</td>\n",
       "      <td>0.001328</td>\n",
       "      <td>0.001313</td>\n",
       "      <td>0.001209</td>\n",
       "      <td>...</td>\n",
       "      <td>0.000637</td>\n",
       "      <td>0.000626</td>\n",
       "      <td>0.000542</td>\n",
       "      <td>0.000435</td>\n",
       "      <td>0.000439</td>\n",
       "      <td>0.000472</td>\n",
       "      <td>NaN</td>\n",
       "      <td>NaN</td>\n",
       "      <td>NaN</td>\n",
       "      <td>NaN</td>\n",
       "    </tr>\n",
       "    <tr>\n",
       "      <th>2023-06-19</th>\n",
       "      <td>0.000035</td>\n",
       "      <td>0.000088</td>\n",
       "      <td>0.000109</td>\n",
       "      <td>0.000121</td>\n",
       "      <td>0.000143</td>\n",
       "      <td>0.000175</td>\n",
       "      <td>0.000291</td>\n",
       "      <td>0.000363</td>\n",
       "      <td>0.000451</td>\n",
       "      <td>-0.000129</td>\n",
       "      <td>...</td>\n",
       "      <td>-0.000039</td>\n",
       "      <td>-0.000039</td>\n",
       "      <td>-0.000035</td>\n",
       "      <td>-0.000034</td>\n",
       "      <td>-0.000029</td>\n",
       "      <td>-0.000024</td>\n",
       "      <td>NaN</td>\n",
       "      <td>NaN</td>\n",
       "      <td>NaN</td>\n",
       "      <td>NaN</td>\n",
       "    </tr>\n",
       "    <tr>\n",
       "      <th>2023-10-09</th>\n",
       "      <td>NaN</td>\n",
       "      <td>NaN</td>\n",
       "      <td>NaN</td>\n",
       "      <td>NaN</td>\n",
       "      <td>NaN</td>\n",
       "      <td>NaN</td>\n",
       "      <td>NaN</td>\n",
       "      <td>NaN</td>\n",
       "      <td>NaN</td>\n",
       "      <td>NaN</td>\n",
       "      <td>...</td>\n",
       "      <td>NaN</td>\n",
       "      <td>NaN</td>\n",
       "      <td>NaN</td>\n",
       "      <td>NaN</td>\n",
       "      <td>NaN</td>\n",
       "      <td>NaN</td>\n",
       "      <td>0.008451</td>\n",
       "      <td>0.007823</td>\n",
       "      <td>0.005833</td>\n",
       "      <td>0.009206</td>\n",
       "    </tr>\n",
       "  </tbody>\n",
       "</table>\n",
       "<p>4 rows × 34 columns</p>\n",
       "</div>"
      ],
      "text/plain": [
       "                  1D        1M        2M        3M        6M        9M  \\\n",
       "2022-11-11       NaN       NaN       NaN       NaN       NaN       NaN   \n",
       "2023-04-07  0.000596 -0.000189 -0.001362 -0.001413  0.000175  0.000699   \n",
       "2023-06-19  0.000035  0.000088  0.000109  0.000121  0.000143  0.000175   \n",
       "2023-10-09       NaN       NaN       NaN       NaN       NaN       NaN   \n",
       "\n",
       "                  1Y        2Y        3Y        4Y  ...       19Y       20Y  \\\n",
       "2022-11-11       NaN       NaN       NaN       NaN  ...       NaN       NaN   \n",
       "2023-04-07  0.000956  0.001328  0.001313  0.001209  ...  0.000637  0.000626   \n",
       "2023-06-19  0.000291  0.000363  0.000451 -0.000129  ... -0.000039 -0.000039   \n",
       "2023-10-09       NaN       NaN       NaN       NaN  ...       NaN       NaN   \n",
       "\n",
       "                 25Y       30Y       35Y       40Y  (AAPL, Adj Close)  \\\n",
       "2022-11-11       NaN       NaN       NaN       NaN           0.019269   \n",
       "2023-04-07  0.000542  0.000435  0.000439  0.000472                NaN   \n",
       "2023-06-19 -0.000035 -0.000034 -0.000029 -0.000024                NaN   \n",
       "2023-10-09       NaN       NaN       NaN       NaN           0.008451   \n",
       "\n",
       "            (MSFT, Adj Close)  (F, Adj Close)  (BAC, Adj Close)  \n",
       "2022-11-11           0.016997        0.022567          0.007343  \n",
       "2023-04-07                NaN             NaN               NaN  \n",
       "2023-06-19                NaN             NaN               NaN  \n",
       "2023-10-09           0.007823        0.005833          0.009206  \n",
       "\n",
       "[4 rows x 34 columns]"
      ]
     },
     "execution_count": 45,
     "metadata": {},
     "output_type": "execute_result"
    }
   ],
   "source": [
    "pd.concat([r_changes,stocks],axis = 1)[pd.concat([r_changes,stocks],axis = 1).isna().any(axis=1)]"
   ]
  },
  {
   "cell_type": "code",
   "execution_count": 6,
   "id": "beb842b1-a33f-438e-a494-d87b44c49a84",
   "metadata": {},
   "outputs": [
    {
     "data": {
      "text/plain": [
       "926393.2723869501"
      ]
     },
     "execution_count": 6,
     "metadata": {},
     "output_type": "execute_result"
    }
   ],
   "source": [
    "#zeo_rates\n",
    "r_changes = zero_rates[zero_rates.columns[1:]].T.diff().dropna()\n",
    "#stocks\n",
    "\n",
    "stocks = pd.read_excel(\"hist_data.xlsm\", sheet_name = ['AAPL', 'MSFT', 'F', 'BAC'], index_col = 'Date')\n",
    "\n",
    "stocks = pd.concat(stocks.values(), keys=stocks.keys(), axis = 1)\n",
    "stocks = (stocks - stocks.shift(1))/stocks.shift(1)\n",
    "stocks.dropna(inplace=True)\n",
    "\n",
    "#mean_p\n",
    "r_changes.index = stocks.index\n",
    "daily_changes_mean = pd.concat([r_changes,stocks],axis = 1)\n",
    "mean_vector = daily_changes_mean.mean()\n",
    "mean_p = sum(mean_vector*a1)\n",
    "\n",
    "#cov_p\n",
    "daily_changes_var = pd.concat([r_changes,stocks],axis = 1)\n",
    "cov_matrix = daily_changes_var.cov()\n",
    "var_p = np.array(a1).dot(cov_matrix).dot(np.array(a1))\n",
    "\n",
    "#VaR95\n",
    "z_a = norm.ppf(0.05)\n",
    "p_VaR95 = abs(mean_p + z_a*np.sqrt(var_p))\n",
    "p_VaR95"
   ]
  },
  {
   "cell_type": "code",
   "execution_count": 7,
   "id": "4b21ec3d-809e-4bb5-bf0d-c7d529504f4d",
   "metadata": {},
   "outputs": [],
   "source": [
    "# #zeo_rates\n",
    "# r_changes = zero_rates[zero_rates.columns[1:]].T.diff().dropna()\n",
    "# #stocks\n",
    "# stocks = pd.read_excel(\"hist_data.xlsm\", sheet_name = ['AAPL', 'MSFT', 'F', 'BAC'], index_col = 'Date')\n",
    "\n",
    "# #stocks_mean = pd.concat(stocks.values(), keys=stocks.keys(), axis = 1)\n",
    "# #stocks_mean = np.log(stocks_mean/stocks_mean.shift(1))\n",
    "# #stocks_mean.dropna(inplace=True)\n",
    "\n",
    "# stocks_var = pd.concat(stocks.values(), keys=stocks.keys(), axis = 1)\n",
    "# stocks_var = (stocks_var - stocks_var.shift(1))/stocks_var.shift(1)\n",
    "# stocks_var.dropna(inplace=True)\n",
    "\n",
    "# #mean_p\n",
    "# r_changes.index = stocks_var.index\n",
    "# daily_changes_mean = pd.concat([r_changes,stocks_var],axis = 1)\n",
    "# mean_vector = daily_changes_mean.mean()\n",
    "# #mean_vector[-4:] = np.exp(mean_vector[-4:])-1\n",
    "# mean_p = sum(mean_vector*a1)\n",
    "\n",
    "# #cov_p\n",
    "# daily_changes_var = pd.concat([r_changes,stocks_var],axis = 1)\n",
    "# cov_matrix = daily_changes_var.cov()\n",
    "# var_p = np.array(a1).dot(cov_matrix).dot(np.array(a1))\n",
    "\n",
    "# #VaR95\n",
    "# z_a = norm.ppf(0.95)\n",
    "# VaR95 = abs(mean_p + z_a*np.sqrt(var_p))\n",
    "# VaR95"
   ]
  },
  {
   "cell_type": "markdown",
   "id": "67f96424-594e-45c6-91d4-fc2342d13f83",
   "metadata": {},
   "source": [
    "# Monte Carlo VaR Model"
   ]
  },
  {
   "cell_type": "markdown",
   "id": "f8cb0029-a36b-4822-b372-f754a7f2408f",
   "metadata": {},
   "source": [
    "## Full revaluation approach"
   ]
  },
  {
   "cell_type": "markdown",
   "id": "36ed0f73-dad8-46f1-9416-2ee2b7d0ad8b",
   "metadata": {},
   "source": [
    "### method1"
   ]
  },
  {
   "cell_type": "code",
   "execution_count": 8,
   "id": "eeb5aa3c-4848-4912-83c8-0693be42172c",
   "metadata": {},
   "outputs": [],
   "source": [
    "#array([-0.00054994, -0.00071541, -0.00065583, -0.00069635, -0.00070323,\n",
    "#       -0.00071554, -0.00075263, -0.00079857, -0.00083744, -0.00085454])\n",
    "sofr_info = zero_rates[\"2023-10-30\"][6:16].values\n",
    "def cal_v_sofr(r_changes):\n",
    "    \n",
    "    new_rs = r_changes+sofr_info\n",
    "    #df = np.power(1/(1+new_rs), np.arange(1,11))\n",
    "    df = np.exp(-new_rs*np.arange(1,11))\n",
    "\n",
    "    swap_rate = 0.042\n",
    "    nominal = 1e8\n",
    "    flt = 1 - df[-1]\n",
    "    fixed = sum(df)*swap_rate\n",
    "    v_sofr = (flt-fixed)*nominal\n",
    "    return v_sofr"
   ]
  },
  {
   "cell_type": "code",
   "execution_count": 9,
   "id": "87c1286b-dc81-4905-92a5-05f7963bcf9c",
   "metadata": {},
   "outputs": [
    {
     "data": {
      "text/plain": [
       "6442901.99984632"
      ]
     },
     "execution_count": 9,
     "metadata": {},
     "output_type": "execute_result"
    }
   ],
   "source": [
    "pv = v_sofr + 4*1e6\n",
    "pv"
   ]
  },
  {
   "cell_type": "code",
   "execution_count": 10,
   "id": "c6490f02-43a1-43b9-a129-fb288fbe7e9b",
   "metadata": {},
   "outputs": [],
   "source": [
    "mean_vector = daily_changes_var.mean()\n",
    "covariance_matrix = daily_changes_var.cov()\n",
    "num_simulations = int(1e7)\n",
    "risk_factors_changes = np.random.multivariate_normal(mean_vector, covariance_matrix, num_simulations)"
   ]
  },
  {
   "cell_type": "code",
   "execution_count": 11,
   "id": "71ee4e4a-4b16-4537-aaf2-34f733b23b40",
   "metadata": {},
   "outputs": [],
   "source": [
    "# num_simulations = int(1e7)\n",
    "# risk_factors = np.random.multivariate_normal(mean_vector, covariance_matrix, num_simulations)\n",
    "# changes = []\n",
    "# for i in range(num_simulations):\n",
    "#     stock_pv = sum((risk_factors[i][-4:]+1)*1e6)\n",
    "#     sofr_pv = cal_v_sofr(risk_factors[i][6:16])\n",
    "#     changes.append(stock_pv+sofr_pv-pv)\n",
    "\n",
    "# # Calculate the 5th percentile\n",
    "# VaR_95 = np.percentile(np.sort(changes), 5)\n",
    "# VaR_95"
   ]
  },
  {
   "cell_type": "markdown",
   "id": "ebf11e27-2ffc-45ec-bd60-2ab93a972ce1",
   "metadata": {},
   "source": [
    "### method2-vectorcal"
   ]
  },
  {
   "cell_type": "code",
   "execution_count": 12,
   "id": "18c32f67-5212-4150-a746-1d38e2f48437",
   "metadata": {},
   "outputs": [],
   "source": [
    "def cal_vector_sofr(risk_vector_changes):\n",
    "    \n",
    "    new_vector_rs = risk_vector_changes[:,6:16]+sofr_info\n",
    "    #vector_df = np.power(1/(1+new_vector_rs), np.arange(1,11))\n",
    "    vector_df = np.exp(-new_vector_rs*np.arange(1,11))\n",
    "\n",
    "    swap_rate = 0.042\n",
    "    nominal = 1e8\n",
    "    flt = 1 - vector_df[:,-1]\n",
    "    fixed = np.sum(vector_df, axis=1)*swap_rate\n",
    "    vector_sofr = (flt-fixed)*nominal\n",
    "    return vector_sofr"
   ]
  },
  {
   "cell_type": "code",
   "execution_count": 13,
   "id": "48943c8c-9ebe-42b9-9ed2-623288283837",
   "metadata": {},
   "outputs": [],
   "source": [
    "stock_vector_pv = np.sum(risk_factors_changes[:,-4:]+1,axis=1)*1e6"
   ]
  },
  {
   "cell_type": "code",
   "execution_count": 14,
   "id": "c2cc4494-c24f-41da-8d5f-fcc0bbc5cda8",
   "metadata": {},
   "outputs": [
    {
     "data": {
      "text/plain": [
       "-931375.7669277196"
      ]
     },
     "execution_count": 14,
     "metadata": {},
     "output_type": "execute_result"
    }
   ],
   "source": [
    "changes = cal_vector_sofr(risk_factors_changes)+stock_vector_pv-pv\n",
    "mf_VaR_95 = np.percentile(np.sort(changes), 5)\n",
    "mf_VaR_95"
   ]
  },
  {
   "cell_type": "markdown",
   "id": "aabfb06b-b1ab-4c92-85b9-9dffffbec5cb",
   "metadata": {},
   "source": [
    "## Risk-based approach"
   ]
  },
  {
   "cell_type": "code",
   "execution_count": 15,
   "id": "358a2ad7-9d21-4767-83c0-a7eb42ceba03",
   "metadata": {},
   "outputs": [
    {
     "data": {
      "text/plain": [
       "(10000000, 34)"
      ]
     },
     "execution_count": 15,
     "metadata": {},
     "output_type": "execute_result"
    }
   ],
   "source": [
    "risk_factors_changes.shape"
   ]
  },
  {
   "cell_type": "code",
   "execution_count": 16,
   "id": "91dcf95e-314e-4e54-9744-bb17b608a27a",
   "metadata": {},
   "outputs": [
    {
     "data": {
      "text/plain": [
       "-925981.5497722937"
      ]
     },
     "execution_count": 16,
     "metadata": {},
     "output_type": "execute_result"
    }
   ],
   "source": [
    "a1 = np.array(a1)\n",
    "changes = risk_factors_changes.dot(a1)\n",
    "mr_VaR_95 = np.percentile(np.sort(changes), 5)\n",
    "mr_VaR_95"
   ]
  },
  {
   "cell_type": "markdown",
   "id": "c16157ec-bfcd-4880-a755-2280f557ffd1",
   "metadata": {},
   "source": [
    "# Historical VaR"
   ]
  },
  {
   "cell_type": "markdown",
   "id": "bbce96ce-a8d4-4955-a2ca-229a64a559e0",
   "metadata": {},
   "source": [
    "## risk_based "
   ]
  },
  {
   "cell_type": "code",
   "execution_count": 17,
   "id": "f6e18fb4-517e-40cf-9825-e8270f85098f",
   "metadata": {},
   "outputs": [
    {
     "data": {
      "text/plain": [
       "-960687.7194584942"
      ]
     },
     "execution_count": 17,
     "metadata": {},
     "output_type": "execute_result"
    }
   ],
   "source": [
    "h_daily_changes = daily_changes_var.copy()\n",
    "changes = np.array(h_daily_changes).dot(a1)\n",
    "hr_VaR_95 = np.percentile(np.sort(changes), 5)\n",
    "hr_VaR_95"
   ]
  },
  {
   "cell_type": "markdown",
   "id": "f0b7ee1a-0d82-4e14-bbf5-5e8f774a742a",
   "metadata": {},
   "source": [
    "## full revalutation"
   ]
  },
  {
   "cell_type": "code",
   "execution_count": 18,
   "id": "ac241d32-0b4f-4b83-921d-989182b45d4c",
   "metadata": {},
   "outputs": [
    {
     "data": {
      "text/plain": [
       "-966173.2175561558"
      ]
     },
     "execution_count": 18,
     "metadata": {},
     "output_type": "execute_result"
    }
   ],
   "source": [
    "stock_vector_pv = np.sum(np.array(h_daily_changes)[:,-4:]+1, axis=1)*1e6\n",
    "changes = cal_vector_sofr(np.array(h_daily_changes))+stock_vector_pv-pv\n",
    "hf_VaR_95 = np.percentile(np.sort(changes), 5)\n",
    "hf_VaR_95"
   ]
  },
  {
   "cell_type": "code",
   "execution_count": 19,
   "id": "429c68bb-a5ab-4a49-94b4-7bbda7d32674",
   "metadata": {},
   "outputs": [
    {
     "data": {
      "text/plain": [
       "{'parametric VaR': 926393.2723869501,\n",
       " 'Monte Carol VaR Full': -931375.7669277196,\n",
       " 'Monte Carol VaR RiskedBased': -925981.5497722937,\n",
       " 'Historical VaR Full': -966173.2175561558,\n",
       " 'Historical VaR RiskedBAsed': -960687.7194584942}"
      ]
     },
     "execution_count": 19,
     "metadata": {},
     "output_type": "execute_result"
    }
   ],
   "source": [
    "{'parametric VaR': p_VaR95,\n",
    "'Monte Carol VaR Full': mf_VaR_95,\n",
    "'Monte Carol VaR RiskedBased': mr_VaR_95,\n",
    "'Historical VaR Full': hf_VaR_95,\n",
    "'Historical VaR RiskedBAsed': hr_VaR_95\n",
    "}"
   ]
  },
  {
   "cell_type": "code",
   "execution_count": null,
   "id": "4426c372-1c85-4e4b-a2a4-b08cee4ce761",
   "metadata": {},
   "outputs": [],
   "source": []
  }
 ],
 "metadata": {
  "kernelspec": {
   "display_name": "Python 3 (ipykernel)",
   "language": "python",
   "name": "python3"
  },
  "language_info": {
   "codemirror_mode": {
    "name": "ipython",
    "version": 3
   },
   "file_extension": ".py",
   "mimetype": "text/x-python",
   "name": "python",
   "nbconvert_exporter": "python",
   "pygments_lexer": "ipython3",
   "version": "3.12.0"
  }
 },
 "nbformat": 4,
 "nbformat_minor": 5
}
