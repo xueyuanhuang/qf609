{
 "cells": [
  {
   "cell_type": "code",
   "execution_count": 2,
   "id": "1dc494c8-f259-4b97-8123-21acfeff9b9b",
   "metadata": {},
   "outputs": [],
   "source": [
    "import math\n",
    "import numpy as np\n",
    "import pandas as pd"
   ]
  },
  {
   "cell_type": "markdown",
   "id": "be8007d2-32e6-4b6c-a539-049eb7b7e0be",
   "metadata": {},
   "source": [
    "# Q1"
   ]
  },
  {
   "cell_type": "code",
   "execution_count": 9,
   "id": "4e9e4840-bb7f-44ba-a74d-335910e2aabb",
   "metadata": {},
   "outputs": [
    {
     "data": {
      "text/plain": [
       "114.7068494138743"
      ]
     },
     "execution_count": 9,
     "metadata": {},
     "output_type": "execute_result"
    }
   ],
   "source": [
    "cap = 100\n",
    "r = 0.05\n",
    "r_df = 0.02\n",
    "t = 0.25\n",
    "#t = 0\n",
    "#T = 1\n",
    "T = 5\n",
    "\n",
    "pv = np.sum([cap*r*1/(r_df+1)**t_range for t_range in np.arange(1-t, T-t+1)]) + cap*1/(r_df+1)**(T-t)\n",
    "pv"
   ]
  },
  {
   "cell_type": "code",
   "execution_count": 10,
   "id": "d3224841-7883-4cc9-9359-83c409acc5ff",
   "metadata": {},
   "outputs": [
    {
     "data": {
      "text/plain": [
       "105.23314524283833"
      ]
     },
     "execution_count": 10,
     "metadata": {},
     "output_type": "execute_result"
    }
   ],
   "source": [
    "cap = 100\n",
    "r = 0.03\n",
    "r_df = 0.02\n",
    "t = 0.25\n",
    "#t = 0\n",
    "#T = 1\n",
    "T = 5\n",
    "\n",
    "pv = np.sum([cap*r*1/(r_df+1)**t_range for t_range in np.arange(1-t, T-t+1)]) + cap*1/(r_df+1)**(T-t)\n",
    "pv"
   ]
  },
  {
   "cell_type": "code",
   "execution_count": 11,
   "id": "d293fb26-d206-4bee-8de6-f87b0d9cd107",
   "metadata": {},
   "outputs": [
    {
     "data": {
      "text/plain": [
       "91.47501049473559"
      ]
     },
     "execution_count": 11,
     "metadata": {},
     "output_type": "execute_result"
    }
   ],
   "source": [
    "cap = 100\n",
    "r = 0.05\n",
    "r_df = 0.08\n",
    "t = 0.5\n",
    "#t = 0\n",
    "#T = 1\n",
    "T = 5\n",
    "\n",
    "pv = np.sum([cap*r*1/(r_df+1)**t_range for t_range in np.arange(1-t, T-t+1)]) + cap*1/(r_df+1)**(T-t)\n",
    "pv"
   ]
  },
  {
   "cell_type": "code",
   "execution_count": 12,
   "id": "6ac635f2-5997-4a5a-b3f0-f7005c25c28d",
   "metadata": {},
   "outputs": [
    {
     "data": {
      "text/plain": [
       "83.17631852180423"
      ]
     },
     "execution_count": 12,
     "metadata": {},
     "output_type": "execute_result"
    }
   ],
   "source": [
    "cap = 100\n",
    "r = 0.03\n",
    "r_df = 0.08\n",
    "t = 0.5\n",
    "#t = 0\n",
    "#T = 1\n",
    "T = 5\n",
    "\n",
    "pv = np.sum([cap*r*1/(r_df+1)**t_range for t_range in np.arange(1-t, T-t+1)]) + cap*1/(r_df+1)**(T-t)\n",
    "pv"
   ]
  },
  {
   "cell_type": "markdown",
   "id": "da491444-4b0f-4dbe-afdf-fcd656e1730f",
   "metadata": {},
   "source": [
    "# Q3"
   ]
  },
  {
   "cell_type": "code",
   "execution_count": 13,
   "id": "8ed2fbfe-6dad-4a67-9f0a-d8de0e894882",
   "metadata": {},
   "outputs": [
    {
     "data": {
      "text/plain": [
       "5958.909410627614"
      ]
     },
     "execution_count": 13,
     "metadata": {},
     "output_type": "execute_result"
    }
   ],
   "source": [
    "B = 1.001\n",
    "q = B/(1+1/12*0.05)\n",
    "A = 1e6*(1-q)*(1+1/12*0.05)/(1-q**240)\n",
    "A"
   ]
  },
  {
   "cell_type": "markdown",
   "id": "96db36ae-6106-4fae-8f32-e151887e2587",
   "metadata": {},
   "source": [
    "# Q6"
   ]
  },
  {
   "cell_type": "markdown",
   "id": "3ce01947-b93e-4078-9f28-ea365f1a0f80",
   "metadata": {},
   "source": [
    "## deltaEV"
   ]
  },
  {
   "cell_type": "code",
   "execution_count": 25,
   "id": "dd4068ea-b574-4705-b57a-83d3cd3759c8",
   "metadata": {},
   "outputs": [],
   "source": [
    "time = np.array([1/365, 1/12, 2/12, 3/12, 6/12, 9/12, 1, 2, 3, 4, 5, 7, 10])\n",
    "netGap = np.array([-25, -15, -15, -10, -20, 0, 5, 30, 15, 20, 10, 5, 0])\n",
    "r = 1.03\n",
    "pvs = netGap/r**time\n",
    "pv1 = np.sum(pvs)"
   ]
  },
  {
   "cell_type": "code",
   "execution_count": 26,
   "id": "c8f5ca2c-bb16-4618-be82-b6bc4de198fc",
   "metadata": {},
   "outputs": [
    {
     "data": {
      "text/plain": [
       "-2.170748100173932"
      ]
     },
     "execution_count": 26,
     "metadata": {},
     "output_type": "execute_result"
    }
   ],
   "source": [
    "time = np.array([1/365, 1/12, 2/12, 3/12, 6/12, 9/12, 1, 2, 3, 4, 5, 7, 10])\n",
    "netGap = np.array([-25, -15, -15, -10, -20, 0, 5, 30, 15, 20, 10, 5, 0])\n",
    "r = 1.04\n",
    "pvs = netGap/r**time\n",
    "pv2 = np.sum(pvs)\n",
    "pv2-pv1"
   ]
  },
  {
   "cell_type": "markdown",
   "id": "d7c8b572-285c-46b5-a57f-eec569f98730",
   "metadata": {},
   "source": [
    "## deltaNII"
   ]
  },
  {
   "cell_type": "code",
   "execution_count": 32,
   "id": "60204ebd-79ec-4f55-b3e2-9b5e324692f3",
   "metadata": {},
   "outputs": [
    {
     "data": {
      "text/plain": [
       "-1.2434075342465756"
      ]
     },
     "execution_count": 32,
     "metadata": {},
     "output_type": "execute_result"
    }
   ],
   "source": [
    "time = np.array([1/365, 1/12, 2/12, 3/12, 6/12, 9/12, 1, 2])\n",
    "netGap = np.array([-25, -15, -15, -10, -20, 0, 5, 30])\n",
    "delta_r = 0.01\n",
    "np.sum((2-time/2)*delta_r*netGap)"
   ]
  },
  {
   "cell_type": "code",
   "execution_count": null,
   "id": "12a8be40-7172-4375-a48e-62a0dd5e2628",
   "metadata": {},
   "outputs": [],
   "source": []
  }
 ],
 "metadata": {
  "kernelspec": {
   "display_name": "Python 3 (ipykernel)",
   "language": "python",
   "name": "python3"
  },
  "language_info": {
   "codemirror_mode": {
    "name": "ipython",
    "version": 3
   },
   "file_extension": ".py",
   "mimetype": "text/x-python",
   "name": "python",
   "nbconvert_exporter": "python",
   "pygments_lexer": "ipython3",
   "version": "3.12.0"
  }
 },
 "nbformat": 4,
 "nbformat_minor": 5
}
