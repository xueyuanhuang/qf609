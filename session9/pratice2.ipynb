{
 "cells": [
  {
   "cell_type": "code",
   "execution_count": 5,
   "id": "24ab3cfe-9cf2-432b-917e-9da793f61af2",
   "metadata": {},
   "outputs": [],
   "source": [
    "import numpy as np\n",
    "import pandas as pd\n",
    "import math"
   ]
  },
  {
   "cell_type": "markdown",
   "id": "60fa653a-c2d9-4213-986b-9591d1ca4852",
   "metadata": {},
   "source": [
    "# Q1"
   ]
  },
  {
   "cell_type": "markdown",
   "id": "372ba21b-2b7e-4331-9548-455f3b5d2d2f",
   "metadata": {},
   "source": [
    "## pv"
   ]
  },
  {
   "cell_type": "code",
   "execution_count": 21,
   "id": "ec1bba49-cf2e-4e0e-8d0f-a026d8bff83b",
   "metadata": {},
   "outputs": [
    {
     "data": {
      "text/plain": [
       "931838.7884175684"
      ]
     },
     "execution_count": 21,
     "metadata": {},
     "output_type": "execute_result"
    }
   ],
   "source": [
    "notional = 1e6\n",
    "r = 0.05\n",
    "r_df = 0.06\n",
    "pv = np.sum([notional*r*0.5/(1+r_df)**t for t in np.arange(0.5, 10.5, 0.5)]) + notional/(1+r_df)**10\n",
    "pv"
   ]
  },
  {
   "cell_type": "markdown",
   "id": "3feef8dd-743a-4c8e-9ed3-1eda3074e543",
   "metadata": {},
   "source": [
    "## Macaulay duration"
   ]
  },
  {
   "cell_type": "code",
   "execution_count": 22,
   "id": "fc79733d-cbd7-48df-81f9-2e514820fe74",
   "metadata": {},
   "outputs": [
    {
     "data": {
      "text/plain": [
       "7.903368446601936"
      ]
     },
     "execution_count": 22,
     "metadata": {},
     "output_type": "execute_result"
    }
   ],
   "source": [
    "D = (np.sum([notional*r*0.5/(1+r_df)**t*t for t in np.arange(0.5, 10.5, 0.5)]) + notional/(1+r_df)**10*10)/pv\n",
    "D"
   ]
  },
  {
   "cell_type": "code",
   "execution_count": 23,
   "id": "689a59db-765c-4904-b819-03f6f57edc42",
   "metadata": {},
   "outputs": [
    {
     "data": {
      "text/plain": [
       "7.456007968492393"
      ]
     },
     "execution_count": 23,
     "metadata": {},
     "output_type": "execute_result"
    }
   ],
   "source": [
    "MD = D/(1+r_df)\n",
    "MD"
   ]
  },
  {
   "cell_type": "code",
   "execution_count": 24,
   "id": "9e209c52-b8f0-4465-8a39-4a0ba6f5067f",
   "metadata": {},
   "outputs": [
    {
     "data": {
      "text/plain": [
       "71.39100001441015"
      ]
     },
     "execution_count": 24,
     "metadata": {},
     "output_type": "execute_result"
    }
   ],
   "source": [
    "C = (np.sum([t*(t+1)*notional*r*0.5/(1+r_df)**(t+2) for t in np.arange(0.5, 10.5, 0.5)]) + 10*(10+1)*notional/(1+r_df)**(10+2))/pv\n",
    "C"
   ]
  },
  {
   "cell_type": "markdown",
   "id": "fbd3146d-b181-4d10-a842-156b73a8a191",
   "metadata": {},
   "source": [
    "## estimation"
   ]
  },
  {
   "cell_type": "code",
   "execution_count": 25,
   "id": "5aec5a45-3883-4e1c-bed9-e5f8eb50d999",
   "metadata": {},
   "outputs": [
    {
     "data": {
      "text/plain": [
       "238370.12928455658"
      ]
     },
     "execution_count": 25,
     "metadata": {},
     "output_type": "execute_result"
    }
   ],
   "source": [
    "dy = -0.03\n",
    "delta_pv = pv*(-MD*dy + 0.5*C*dy**2)\n",
    "delta_pv"
   ]
  },
  {
   "cell_type": "code",
   "execution_count": 26,
   "id": "bc18cb6a-fff8-4564-ba38-083263054396",
   "metadata": {},
   "outputs": [
    {
     "data": {
      "text/plain": [
       "-125650.96804436443"
      ]
     },
     "execution_count": 26,
     "metadata": {},
     "output_type": "execute_result"
    }
   ],
   "source": [
    "dy = 0.02\n",
    "delta_pv = pv*(-MD*dy + 0.5*C*dy**2)\n",
    "delta_pv"
   ]
  },
  {
   "cell_type": "markdown",
   "id": "9e3c2897-2b4d-4923-935f-9a63f58f1041",
   "metadata": {},
   "source": [
    "## c"
   ]
  },
  {
   "cell_type": "code",
   "execution_count": 19,
   "id": "c6953a65-8438-41b5-ab17-b04dcc539b04",
   "metadata": {},
   "outputs": [
    {
     "name": "stdout",
     "output_type": "stream",
     "text": [
      "1173779.2448628205\n",
      "8.171352536979724\n",
      "7.933351977650217\n",
      "78.9544844664099\n"
     ]
    }
   ],
   "source": [
    "notional = 1e6\n",
    "r = 0.05\n",
    "r_df = 0.03\n",
    "pv = np.sum([notional*r*0.5/(1+r_df)**t for t in np.arange(0.5, 10.5, 0.5)]) + notional/(1+r_df)**10\n",
    "print(pv)\n",
    "\n",
    "D = (np.sum([notional*r*0.5/(1+r_df)**t*t for t in np.arange(0.5, 10.5, 0.5)]) + notional/(1+r_df)**10*10)/pv\n",
    "print(D)\n",
    "\n",
    "MD = D/(1+r_df)\n",
    "print(MD)\n",
    "\n",
    "C = (np.sum([t*(t+1)*notional*r*0.5/(1+r_df)**(t+2) for t in np.arange(0.5, 10.5, 0.5)]) + 10*(10+1)*notional/(1+r_df)**(10+2))/pv\n",
    "print(C)"
   ]
  },
  {
   "cell_type": "code",
   "execution_count": 20,
   "id": "1f2af28e-fcb0-4520-afea-264a5b536382",
   "metadata": {},
   "outputs": [
    {
     "name": "stdout",
     "output_type": "stream",
     "text": [
      "805278.5516465616\n",
      "7.713072803646762\n",
      "7.141734077450705\n",
      "66.62804028411054\n"
     ]
    }
   ],
   "source": [
    "notional = 1e6\n",
    "r = 0.05\n",
    "r_df = 0.08\n",
    "pv = np.sum([notional*r*0.5/(1+r_df)**t for t in np.arange(0.5, 10.5, 0.5)]) + notional/(1+r_df)**10\n",
    "print(pv)\n",
    "\n",
    "D = (np.sum([notional*r*0.5/(1+r_df)**t*t for t in np.arange(0.5, 10.5, 0.5)]) + notional/(1+r_df)**10*10)/pv\n",
    "print(D)\n",
    "\n",
    "MD = D/(1+r_df)\n",
    "print(MD)\n",
    "\n",
    "C = (np.sum([t*(t+1)*notional*r*0.5/(1+r_df)**(t+2) for t in np.arange(0.5, 10.5, 0.5)]) + 10*(10+1)*notional/(1+r_df)**(10+2))/pv\n",
    "print(C)"
   ]
  },
  {
   "cell_type": "markdown",
   "id": "b95f0e80-cc18-4b89-a7a1-eadc1abeca04",
   "metadata": {},
   "source": [
    "# Second round"
   ]
  },
  {
   "cell_type": "markdown",
   "id": "7e804c0e-5081-402e-90cf-90393f794238",
   "metadata": {},
   "source": [
    "# Q1"
   ]
  },
  {
   "cell_type": "code",
   "execution_count": 11,
   "id": "ca72ba5b-9fe7-4795-af16-964d6ec67533",
   "metadata": {},
   "outputs": [
    {
     "data": {
      "text/plain": [
       "-6947797.431791686"
      ]
     },
     "execution_count": 11,
     "metadata": {},
     "output_type": "execute_result"
    }
   ],
   "source": [
    "c = 25000\n",
    "nominal = 1000000\n",
    "R = 0.06\n",
    "dP_dR = np.sum([-i/2*c/(1+R)**(i/2+1) for i in range(1,21)])-10*1000000/(1+R)**11\n",
    "dP_dR"
   ]
  },
  {
   "cell_type": "code",
   "execution_count": 12,
   "id": "27418482-b04b-4467-aa03-e2c08e2e2fe0",
   "metadata": {},
   "outputs": [
    {
     "data": {
      "text/plain": [
       "7.903366652071"
      ]
     },
     "execution_count": 12,
     "metadata": {},
     "output_type": "execute_result"
    }
   ],
   "source": [
    "-dP_dR/931839*(1+R)"
   ]
  },
  {
   "cell_type": "code",
   "execution_count": 13,
   "id": "8e523078-c191-4c5b-b6b3-63976f01dffd",
   "metadata": {},
   "outputs": [
    {
     "data": {
      "text/plain": [
       "66524902.95734657"
      ]
     },
     "execution_count": 13,
     "metadata": {},
     "output_type": "execute_result"
    }
   ],
   "source": [
    "dP2_dR2 = np.sum([i/2*(i/2+1)*25000/(1+R)**(i/2+2) for i in range(1,21)]) + 10*11*1000000/(1+R)**12\n",
    "dP2_dR2"
   ]
  },
  {
   "cell_type": "code",
   "execution_count": null,
   "id": "3540c6ef-acfa-4705-8074-1d90786c82ec",
   "metadata": {},
   "outputs": [],
   "source": []
  }
 ],
 "metadata": {
  "kernelspec": {
   "display_name": "Python 3 (ipykernel)",
   "language": "python",
   "name": "python3"
  },
  "language_info": {
   "codemirror_mode": {
    "name": "ipython",
    "version": 3
   },
   "file_extension": ".py",
   "mimetype": "text/x-python",
   "name": "python",
   "nbconvert_exporter": "python",
   "pygments_lexer": "ipython3",
   "version": "3.12.0"
  }
 },
 "nbformat": 4,
 "nbformat_minor": 5
}
